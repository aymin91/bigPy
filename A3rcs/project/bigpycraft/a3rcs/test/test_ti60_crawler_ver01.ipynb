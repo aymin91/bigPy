{
 "cells": [
  {
   "cell_type": "code",
   "execution_count": 1,
   "metadata": {},
   "outputs": [],
   "source": [
    "import ti60_crawler_ver01 as ti"
   ]
  },
  {
   "cell_type": "code",
   "execution_count": 2,
   "metadata": {},
   "outputs": [],
   "source": [
    "blogger_id = 'hohodang' "
   ]
  },
  {
   "cell_type": "code",
   "execution_count": 3,
   "metadata": {},
   "outputs": [],
   "source": [
    "blogger_id = 'diarystory'"
   ]
  },
  {
   "cell_type": "code",
   "execution_count": 4,
   "metadata": {},
   "outputs": [
    {
     "data": {
      "text/plain": [
       "'https://diarystory.tistory.com/'"
      ]
     },
     "execution_count": 4,
     "metadata": {},
     "output_type": "execute_result"
    }
   ],
   "source": [
    "blog_url = ti.get_blog_url(blogger_id)\n",
    "blog_url"
   ]
  },
  {
   "cell_type": "code",
   "execution_count": 5,
   "metadata": {
    "scrolled": false
   },
   "outputs": [
    {
     "name": "stdout",
     "output_type": "stream",
     "text": [
      "총 게시글은 312 개 글이며 게시글 마지막 페이지는  52 입니다.\n",
      "------------------------------------------------------------------------------------\n",
      "총  312 개의 url을 수집하였습니다.\n",
      "312\n"
     ]
    },
    {
     "data": {
      "text/plain": [
       "['https://diarystory.tistory.com/768',\n",
       " 'https://diarystory.tistory.com/767',\n",
       " 'https://diarystory.tistory.com/766',\n",
       " 'https://diarystory.tistory.com/765',\n",
       " 'https://diarystory.tistory.com/764',\n",
       " 'https://diarystory.tistory.com/763',\n",
       " 'https://diarystory.tistory.com/762',\n",
       " 'https://diarystory.tistory.com/761',\n",
       " 'https://diarystory.tistory.com/760',\n",
       " 'https://diarystory.tistory.com/759']"
      ]
     },
     "execution_count": 5,
     "metadata": {},
     "output_type": "execute_result"
    }
   ],
   "source": [
    "board_url_list = ti.get_all_board_url(blog_url)\n",
    "print(len(board_url_list))\n",
    "board_url_list[0:10]"
   ]
  },
  {
   "cell_type": "code",
   "execution_count": 6,
   "metadata": {},
   "outputs": [
    {
     "name": "stdout",
     "output_type": "stream",
     "text": [
      "312\n"
     ]
    },
    {
     "data": {
      "text/plain": [
       "['https://diarystory.tistory.com/m/768',\n",
       " 'https://diarystory.tistory.com/m/767',\n",
       " 'https://diarystory.tistory.com/m/766',\n",
       " 'https://diarystory.tistory.com/m/765',\n",
       " 'https://diarystory.tistory.com/m/764',\n",
       " 'https://diarystory.tistory.com/m/763',\n",
       " 'https://diarystory.tistory.com/m/762',\n",
       " 'https://diarystory.tistory.com/m/761',\n",
       " 'https://diarystory.tistory.com/m/760',\n",
       " 'https://diarystory.tistory.com/m/759']"
      ]
     },
     "execution_count": 6,
     "metadata": {},
     "output_type": "execute_result"
    }
   ],
   "source": [
    "m_board_url_list = ti.common_util(board_url_list)\n",
    "print(len(m_board_url_list))\n",
    "m_board_url_list[0:10]"
   ]
  },
  {
   "cell_type": "code",
   "execution_count": 7,
   "metadata": {},
   "outputs": [],
   "source": [
    "dataframe = ti.make_basic_DF()"
   ]
  },
  {
   "cell_type": "code",
   "execution_count": 8,
   "metadata": {},
   "outputs": [
    {
     "data": {
      "text/html": [
       "<div>\n",
       "<style scoped>\n",
       "    .dataframe tbody tr th:only-of-type {\n",
       "        vertical-align: middle;\n",
       "    }\n",
       "\n",
       "    .dataframe tbody tr th {\n",
       "        vertical-align: top;\n",
       "    }\n",
       "\n",
       "    .dataframe thead th {\n",
       "        text-align: right;\n",
       "    }\n",
       "</style>\n",
       "<table border=\"1\" class=\"dataframe\">\n",
       "  <thead>\n",
       "    <tr style=\"text-align: right;\">\n",
       "      <th></th>\n",
       "      <th>blog_type</th>\n",
       "      <th>blogger_id</th>\n",
       "      <th>post_num</th>\n",
       "      <th>key</th>\n",
       "      <th>board_url</th>\n",
       "      <th>title</th>\n",
       "      <th>content</th>\n",
       "      <th>board_category</th>\n",
       "      <th>blogger_nick</th>\n",
       "      <th>date</th>\n",
       "    </tr>\n",
       "  </thead>\n",
       "  <tbody>\n",
       "    <tr>\n",
       "      <th>0</th>\n",
       "      <td>TI</td>\n",
       "      <td>diarystory</td>\n",
       "      <td>768</td>\n",
       "      <td>TI_diarystory_768</td>\n",
       "      <td>https://diarystory.tistory.com/768</td>\n",
       "      <td>NaN</td>\n",
       "      <td>NaN</td>\n",
       "      <td>NaN</td>\n",
       "      <td>NaN</td>\n",
       "      <td>NaN</td>\n",
       "    </tr>\n",
       "    <tr>\n",
       "      <th>1</th>\n",
       "      <td>TI</td>\n",
       "      <td>diarystory</td>\n",
       "      <td>767</td>\n",
       "      <td>TI_diarystory_767</td>\n",
       "      <td>https://diarystory.tistory.com/767</td>\n",
       "      <td>NaN</td>\n",
       "      <td>NaN</td>\n",
       "      <td>NaN</td>\n",
       "      <td>NaN</td>\n",
       "      <td>NaN</td>\n",
       "    </tr>\n",
       "    <tr>\n",
       "      <th>2</th>\n",
       "      <td>TI</td>\n",
       "      <td>diarystory</td>\n",
       "      <td>766</td>\n",
       "      <td>TI_diarystory_766</td>\n",
       "      <td>https://diarystory.tistory.com/766</td>\n",
       "      <td>NaN</td>\n",
       "      <td>NaN</td>\n",
       "      <td>NaN</td>\n",
       "      <td>NaN</td>\n",
       "      <td>NaN</td>\n",
       "    </tr>\n",
       "    <tr>\n",
       "      <th>3</th>\n",
       "      <td>TI</td>\n",
       "      <td>diarystory</td>\n",
       "      <td>765</td>\n",
       "      <td>TI_diarystory_765</td>\n",
       "      <td>https://diarystory.tistory.com/765</td>\n",
       "      <td>NaN</td>\n",
       "      <td>NaN</td>\n",
       "      <td>NaN</td>\n",
       "      <td>NaN</td>\n",
       "      <td>NaN</td>\n",
       "    </tr>\n",
       "    <tr>\n",
       "      <th>4</th>\n",
       "      <td>TI</td>\n",
       "      <td>diarystory</td>\n",
       "      <td>764</td>\n",
       "      <td>TI_diarystory_764</td>\n",
       "      <td>https://diarystory.tistory.com/764</td>\n",
       "      <td>NaN</td>\n",
       "      <td>NaN</td>\n",
       "      <td>NaN</td>\n",
       "      <td>NaN</td>\n",
       "      <td>NaN</td>\n",
       "    </tr>\n",
       "  </tbody>\n",
       "</table>\n",
       "</div>"
      ],
      "text/plain": [
       "  blog_type  blogger_id post_num                key  \\\n",
       "0        TI  diarystory      768  TI_diarystory_768   \n",
       "1        TI  diarystory      767  TI_diarystory_767   \n",
       "2        TI  diarystory      766  TI_diarystory_766   \n",
       "3        TI  diarystory      765  TI_diarystory_765   \n",
       "4        TI  diarystory      764  TI_diarystory_764   \n",
       "\n",
       "                            board_url title content board_category  \\\n",
       "0  https://diarystory.tistory.com/768   NaN     NaN            NaN   \n",
       "1  https://diarystory.tistory.com/767   NaN     NaN            NaN   \n",
       "2  https://diarystory.tistory.com/766   NaN     NaN            NaN   \n",
       "3  https://diarystory.tistory.com/765   NaN     NaN            NaN   \n",
       "4  https://diarystory.tistory.com/764   NaN     NaN            NaN   \n",
       "\n",
       "  blogger_nick date  \n",
       "0          NaN  NaN  \n",
       "1          NaN  NaN  \n",
       "2          NaN  NaN  \n",
       "3          NaN  NaN  \n",
       "4          NaN  NaN  "
      ]
     },
     "execution_count": 8,
     "metadata": {},
     "output_type": "execute_result"
    }
   ],
   "source": [
    "dataframe = ti.insert_TB_DF(dataframe, blogger_id, board_url_list)\n",
    "dataframe.head()"
   ]
  },
  {
   "cell_type": "code",
   "execution_count": 9,
   "metadata": {
    "scrolled": true
   },
   "outputs": [
    {
     "name": "stdout",
     "output_type": "stream",
     "text": [
      "312\n"
     ]
    },
    {
     "data": {
      "text/plain": [
       "[{'nickname': '책 읽기 좋은 날 지금이 좋다 백설부',\n",
       "  'date': '2019.10.30 09:50',\n",
       "  'category': '분류없음',\n",
       "  'title': '타인의 향기 / 백설부',\n",
       "  'content': '타인의 향기 무엇이 나를 잠에서 자꾸만 깨어나게 하는가 어둠 속에서 천천히 눈 끝을 깜빡이며 친밀감 있게 다가서는 정갈한 영혼은 누구인가 누구나 잠들어 있어야 평화로울 어설픈 시간에 시간을 파헤쳐가며 무엇을 감지하려는가 목마름으로 점점 길어져가는 꽃술은 무엇으로 채워야 눈매 고운 꽃으로 추하지 않게 피어나려나 허기진다고 조급하다고 타인의 향기를 함부로 탐할 순 없지 않은가 \\xa0끌려온 일상이 후줄근하게 쪼그라든다 목마른 사슴처럼 종일 목이 칼칼하다 견디기 위해 생수를 약처럼 들이켠다 황사가 주저앉은 온 세상의 숨결들은 슬픔의 각질을 벗기느라 여념이 없다 남루한 하루를 빨리 떠나보내고 싶다 내일은 군더더기 없는 맑은 날을 기대해본다 아무 말없이 바람처럼 휙 떠나가 버리시더니 이제 와서 뜬금없이 보고 싶다는 말 한마디에 멈추었던 그리움의 차가운 향기까지 과거 속에서 소용돌이칩니다 아직도 보고 싶다는 말 한마디에 이렇게 마음이 바보처럼 흔들릴 수 있다니 내 사랑은 나이도 먹지 않는가 봅니다 허전한 마음을 가누지 못해 바닥까지 내려앉은 하늘이 처량해 보인다 눈물이라도 쏟으면 허함이 덜할 텐데 아닌 척 흐린 마음만 짓누르며 견디려는가 그럴 바에야 그냥 맑은 척 하지 허함은 왜 보이나 바닥까지 다 보이고는 아닌 척하는 건 더 초라해지는 일인데 바보처럼 왜 모를까.공감\\xa0구독\\xa0꼬~옥 눌러주시면 뚝.\\xa0\\xa0공감\\xa0구독\\xa0꼬~옥 눌러주시면 뚝.'},\n",
       " {'nickname': '책 읽기 좋은 날 지금이 좋다 백설부',\n",
       "  'date': '2019.10.30 01:41',\n",
       "  'category': '분류없음',\n",
       "  'title': '칼 세이건의 창백한 푸른점',\n",
       "  'content': '칼 세이건은 창백한 푸른 점 이란 책에서 이렇게 썼습니다 푸른 점은 지구를 말하는 것이지요 이 페이지 맨 앞장 검은 바탕에 자세히 보면 푸른 점하나 가 있습니다 바로 지구지요 1990년 2월 지구로부터 64억 km 떨어진 명왕성 옆을 초속 18 km로 지나던 보이저 1호가 마지막 남아있는 에너지를 써서 고개를 돌려 찍은 지구 사진입니다 칼 세이건의 고집으로 찍었지요 그 보이저 1호는 지금 멀고 먼 우주로 날아가고 있을 것입니다 세이건은 이 책에서 말합니다 신이 세계를 창조했다면 저 희미한 점으로 보이는 지구를 만들면서 왜 굳이 엄청난 별로 가득 차 있는 우주를 안배한 것인가 신은 그렇게 할 일이 없었던가 라고 말합니다 독실한 기독교 신자인 칼 세이건은 그렇게 말했습니다 그는 또 이렇게도 말했습니다 여기가 우리의 고향이다 우리가 사랑하는 이들 아는 사람들이 이곳에서 살았다 즐거움과 고통 확신에 찬 종교 이데올로기 경제이론 왕과 농부 사랑하는 연인들 모든 아버지와 어머니들 부패한 정치가와 슈퍼스타들 성자와 죄인들 인류의 역사에서 그 모든 것이 총합의 태양빛 속에 부유하는 먼지와 같은 작은 천체 위에서 살았던 것이다 지구 전체는 하나의 점에 불과하고 우리가 사는 곳은 그 점의 한구석에 지나지 않는다 밤하늘의 별을 보고 있으면 우리는 참 작은 존재란 걸 깨닫게 됩니다 바닷가 백사장에 모래알과 다를 바 없는 지구라는 천체 위에서 우리는 서로를 헐뜯고 서로를 질시하며 하루하루를 다투고 있지요 도시에서는 별이 보이지 않습니다 스스로 켠 불들로 인한 빛들 때문에 별이라는 신의 불빛을 보지 못합니다 밤하늘의 별들은 적어도 몇만 년 수백 만년을 달려온 빛들의 향연입니다 우리는 그 빛을 보지 못하고 삽니다 가슴속의 서치라이트가 너무 강해 눈이 부셔 자신 외엔 아무것도 보지 못하는 세상이 된 것 같습니다 세월은 화살같이 빠르다는 말이 새삼 실감 납니다 창문 틈으로 비치는 별빛 하나가 오늘 밤 온통 마음을 빼앗아 갑니다 차 소리 하나 없는 산사의 밤처럼 조용한 밤 풀벌레 소리와 함께 깊어가는 가을밤은 고즈넉하기까지 합니다. 공감\\xa0구독\\xa0꼬~옥 눌러주시면 뚝.\\xa0공감\\xa0구독\\xa0꼬~옥 눌러주시면 뚝.'},\n",
       " {'nickname': '책 읽기 좋은 날 지금이 좋다 백설부',\n",
       "  'date': '2019.10.30 00:02',\n",
       "  'category': '분류없음',\n",
       "  'title': '고향의 맛 청국장 / 백설부',\n",
       "  'content': '고향의 맛 청국장 청국장을 먹고 나니 진한 맛에 맘까지 구순해진 기분이다 어릴 적엔 청국장 냄새가 너무 싫어서 코를 막곤 했었는데 나이가 드니 우리 것이 좋아지고 역겨웠던 냄새가 이제는 고향의 향기 같은 정겨움이 좋다 배가 부르니 맘까지 노글노글해지고 아무 욕심도 없어진다 좋은 옷을 입지 않아도 가릴 수 있으면 되고 좋은 집이 아니라도 두발 주욱 펼 수 있는 내 집이 있다는 게 얼마나 행복한 일이며 다행 스런 일인가 나와 더불어 모든 이들이 다 행복했으면 좋겠다\\xa0늦가을 하늘이 부끄럽게 푸르다 한 치 앞도 모르고 누워서 침 뱉은 사람도 그 침에 이유 없이 더럽혀진 사람도 모두 쓸쓸할 뿐이다 벼가 감사함으로 알알이 영글어 고개를 숙이듯 우리네 인생도 그리해야 하거늘 사람들에게 인정받지 못하고 어찌 주님께 인정받고자 하는지 안타까울 뿐이다 만물의 영장인 인간은 동물과는 달라야 하지 않겠는가 오늘따라 떠나 버린 반려견이 더욱더 보고 싶어 지는 그런 허전한 밤이다 가벼이 살겠네 우아한 자태로 나풀나풀거리는 소슬바람 한 자락에 사랑의 기억 하나 실어 보낸다 생각하는 이마에 주름이 접히고 그리운 만큼 멀지 감치에서 바라보아야만 오래도록 그리워할 수가 있다네 그리움 먹고 살 수만 있다면 풀잎의 어깨라도 기대며 풀꽃처럼 피고 지고 한 세상 가벼이 살았으면 좋겠습니다.공감\\xa0구독\\xa0꼬~옥 눌러주시면 뚝.공감\\xa0구독\\xa0꼬~옥 눌러주시면 뚝.'},\n",
       " {'nickname': '책 읽기 좋은 날 지금이 좋다 백설부',\n",
       "  'date': '2019.10.29 18:46',\n",
       "  'category': '분류없음',\n",
       "  'title': '겨울스런 낯설움 / 백설부',\n",
       "  'content': '겨울스러운 낯설움스산한 느낌에 벌써부터 춥다 춥다가 입에 배어있다 한낮은 따듯한데 해가 저물고 나면 옷깃을 여며도 손끝이 시리다 양볼을 스치는 서늘한 기운은 차라리 신선하다 따스한 체온이 그리워진다 누구라도 곁에 있으면 말을 하지 않아도 존재 만으로도 위로가 될 것 같다 찬바람이 옷깃은 여미게 하지만 마음의 깃까지 닫게 하지 않았으면 좋겠고 이번 겨울은 그래도 따뜻하고훈훈했으면 좋겠다\\xa0어둠이 찾아든 거리엔 가로등 불빛 아래 뒹구는 낙엽들과 처절하게 애쓰는 몇 개의 이파리들이 대롱대롱 나무에 매달려 있다 떨어진 잎새들도 발이 안 떨어져 나무 주위를 맴돌고 연한 바람만 불어도 금세 떨어져 버릴 듯한 힘겨운 잎새들도 눈물을 떨군다 이별이 슬퍼서 머잖아 내 모습을 보는 것 같아서 애처롭기 까지 하다.꿈길을 걷는 시간 꿈길을 걷는 시간은 꽃잎에 날개를 달고 두루 평화롭다 꿈이 그대로 삶이 될 수는 없겠지 흐트러진 책들과 질서 없는 일상을 본다 평범한 시간 속에서 특별한 떨림을 바란다는 건 열어 볼 수 없는 마음 하나 품고 살아가는 일일 지도 모르겠다 얼마나 세월이 흘러야 마음껏 펼쳐볼 수 있을까 반이 접혀진 세월 속에 남은 거 아무리 찾아봐도 별게 없다 차라리 꿈이 깨지 않길 바라보기도 한다.공감\\xa0구독\\xa0꼬~옥 눌러주시면 뚝.공감\\xa0구독\\xa0꼬~옥 눌러주시면 뚝.'},\n",
       " {'nickname': '책 읽기 좋은 날 지금이 좋다 백설부',\n",
       "  'date': '2019.10.29 10:26',\n",
       "  'category': '분류없음',\n",
       "  'title': '찬바람이 불면 / 백설부',\n",
       "  'content': '시린 바람 바람이 옷깃을 여미게 하는 스산한 바람에 손 끝이 시려서 장갑을 끼는데 늘 안쓰러운 눈빛으로 바라보던 어머니가 너무 그리워진다 손수 짜서 끼워준 끈 달린 손 모아 장갑과 함께 잃어버릴까 봐 달아 준 끈이 너무 싫어서 끈을 잘라달라고 떼도 썼었는데 겨울이면 그리움으로 늘 가슴 시리게 한다 호떡이 먹고 싶다는 한 마디에 달려가 사다준 금방 구운 따끈한 호떡 달달한 꿀이 입 안에 흘러들어 가니 가슴까지 달달 해지는 느낌에 추위도 잊게 만든다 이렇게 가슴 시린 찬바람 부는 날에도 따스한 가슴을 가진 당신 생각만 하면 마음이 따스해진다\\xa0낙엽들 낙엽이 눈처럼 내리는 날이면 밀려오는 상실감과 알 수 없는 허전함이 온몸을 마비시킨다 거리에 나설 용기가 없어서 따스한 커피 한 잔을 움켜쥐고는 멍하니 창 밖만 응시한다 바닥에 수북이 쌓여가는 우스와 연민들 그 위로 무심한 사람들의 발자국이 낙인처럼 찍힌다 회상 숲 속을 거니노라면 척박한 땅에서도 생명의 신비로움을 조그만 꽃으로 피워낸 보랏빛 개미취를 만나고 산등성이에서 듬성듬성 인사를 건네는 억새풀의 하늘거림이 운치 있다 등산로 주변에서 따스하게 제 몫을 다하는 구절초가 너무 고맙고 산골짜기마다 수북이 쌓인 낙엽을 밟으며 회상에 젖는다.공감\\xa0구독\\xa0꼬~옥 눌러주시면 뚝.공감\\xa0구독\\xa0꼬~옥 눌러주시면 뚝.'}]"
      ]
     },
     "execution_count": 9,
     "metadata": {},
     "output_type": "execute_result"
    }
   ],
   "source": [
    "all_content_info = ti.gather_all_content(m_board_url_list)\n",
    "print(len(all_content_info))\n",
    "all_content_info[0:5]"
   ]
  },
  {
   "cell_type": "code",
   "execution_count": 10,
   "metadata": {},
   "outputs": [
    {
     "name": "stdout",
     "output_type": "stream",
     "text": [
      "(312, 10)\n"
     ]
    },
    {
     "data": {
      "text/html": [
       "<div>\n",
       "<style scoped>\n",
       "    .dataframe tbody tr th:only-of-type {\n",
       "        vertical-align: middle;\n",
       "    }\n",
       "\n",
       "    .dataframe tbody tr th {\n",
       "        vertical-align: top;\n",
       "    }\n",
       "\n",
       "    .dataframe thead th {\n",
       "        text-align: right;\n",
       "    }\n",
       "</style>\n",
       "<table border=\"1\" class=\"dataframe\">\n",
       "  <thead>\n",
       "    <tr style=\"text-align: right;\">\n",
       "      <th></th>\n",
       "      <th>blog_type</th>\n",
       "      <th>blogger_id</th>\n",
       "      <th>post_num</th>\n",
       "      <th>key</th>\n",
       "      <th>board_url</th>\n",
       "      <th>title</th>\n",
       "      <th>content</th>\n",
       "      <th>board_category</th>\n",
       "      <th>blogger_nick</th>\n",
       "      <th>date</th>\n",
       "    </tr>\n",
       "  </thead>\n",
       "  <tbody>\n",
       "    <tr>\n",
       "      <th>0</th>\n",
       "      <td>TI</td>\n",
       "      <td>diarystory</td>\n",
       "      <td>768</td>\n",
       "      <td>TI_diarystory_768</td>\n",
       "      <td>https://diarystory.tistory.com/768</td>\n",
       "      <td>타인의 향기 / 백설부</td>\n",
       "      <td>타인의 향기 무엇이 나를 잠에서 자꾸만 깨어나게 하는가 어둠 속에서 천천히 눈 끝을...</td>\n",
       "      <td>분류없음</td>\n",
       "      <td>책 읽기 좋은 날 지금이 좋다 백설부</td>\n",
       "      <td>2019.10.30 09:50</td>\n",
       "    </tr>\n",
       "    <tr>\n",
       "      <th>1</th>\n",
       "      <td>TI</td>\n",
       "      <td>diarystory</td>\n",
       "      <td>767</td>\n",
       "      <td>TI_diarystory_767</td>\n",
       "      <td>https://diarystory.tistory.com/767</td>\n",
       "      <td>칼 세이건의 창백한 푸른점</td>\n",
       "      <td>칼 세이건은 창백한 푸른 점 이란 책에서 이렇게 썼습니다 푸른 점은 지구를 말하는 ...</td>\n",
       "      <td>분류없음</td>\n",
       "      <td>책 읽기 좋은 날 지금이 좋다 백설부</td>\n",
       "      <td>2019.10.30 01:41</td>\n",
       "    </tr>\n",
       "    <tr>\n",
       "      <th>2</th>\n",
       "      <td>TI</td>\n",
       "      <td>diarystory</td>\n",
       "      <td>766</td>\n",
       "      <td>TI_diarystory_766</td>\n",
       "      <td>https://diarystory.tistory.com/766</td>\n",
       "      <td>고향의 맛 청국장 / 백설부</td>\n",
       "      <td>고향의 맛 청국장 청국장을 먹고 나니 진한 맛에 맘까지 구순해진 기분이다 어릴 적엔...</td>\n",
       "      <td>분류없음</td>\n",
       "      <td>책 읽기 좋은 날 지금이 좋다 백설부</td>\n",
       "      <td>2019.10.30 00:02</td>\n",
       "    </tr>\n",
       "    <tr>\n",
       "      <th>3</th>\n",
       "      <td>TI</td>\n",
       "      <td>diarystory</td>\n",
       "      <td>765</td>\n",
       "      <td>TI_diarystory_765</td>\n",
       "      <td>https://diarystory.tistory.com/765</td>\n",
       "      <td>겨울스런 낯설움 / 백설부</td>\n",
       "      <td>겨울스러운 낯설움스산한 느낌에 벌써부터 춥다 춥다가 입에 배어있다 한낮은 따듯한데 ...</td>\n",
       "      <td>분류없음</td>\n",
       "      <td>책 읽기 좋은 날 지금이 좋다 백설부</td>\n",
       "      <td>2019.10.29 18:46</td>\n",
       "    </tr>\n",
       "    <tr>\n",
       "      <th>4</th>\n",
       "      <td>TI</td>\n",
       "      <td>diarystory</td>\n",
       "      <td>764</td>\n",
       "      <td>TI_diarystory_764</td>\n",
       "      <td>https://diarystory.tistory.com/764</td>\n",
       "      <td>찬바람이 불면 / 백설부</td>\n",
       "      <td>시린 바람 바람이 옷깃을 여미게 하는 스산한 바람에 손 끝이 시려서 장갑을 끼는데 ...</td>\n",
       "      <td>분류없음</td>\n",
       "      <td>책 읽기 좋은 날 지금이 좋다 백설부</td>\n",
       "      <td>2019.10.29 10:26</td>\n",
       "    </tr>\n",
       "  </tbody>\n",
       "</table>\n",
       "</div>"
      ],
      "text/plain": [
       "  blog_type  blogger_id post_num                key  \\\n",
       "0        TI  diarystory      768  TI_diarystory_768   \n",
       "1        TI  diarystory      767  TI_diarystory_767   \n",
       "2        TI  diarystory      766  TI_diarystory_766   \n",
       "3        TI  diarystory      765  TI_diarystory_765   \n",
       "4        TI  diarystory      764  TI_diarystory_764   \n",
       "\n",
       "                            board_url            title  \\\n",
       "0  https://diarystory.tistory.com/768     타인의 향기 / 백설부   \n",
       "1  https://diarystory.tistory.com/767   칼 세이건의 창백한 푸른점   \n",
       "2  https://diarystory.tistory.com/766  고향의 맛 청국장 / 백설부   \n",
       "3  https://diarystory.tistory.com/765   겨울스런 낯설움 / 백설부   \n",
       "4  https://diarystory.tistory.com/764    찬바람이 불면 / 백설부   \n",
       "\n",
       "                                             content board_category  \\\n",
       "0  타인의 향기 무엇이 나를 잠에서 자꾸만 깨어나게 하는가 어둠 속에서 천천히 눈 끝을...           분류없음   \n",
       "1  칼 세이건은 창백한 푸른 점 이란 책에서 이렇게 썼습니다 푸른 점은 지구를 말하는 ...           분류없음   \n",
       "2  고향의 맛 청국장 청국장을 먹고 나니 진한 맛에 맘까지 구순해진 기분이다 어릴 적엔...           분류없음   \n",
       "3  겨울스러운 낯설움스산한 느낌에 벌써부터 춥다 춥다가 입에 배어있다 한낮은 따듯한데 ...           분류없음   \n",
       "4  시린 바람 바람이 옷깃을 여미게 하는 스산한 바람에 손 끝이 시려서 장갑을 끼는데 ...           분류없음   \n",
       "\n",
       "           blogger_nick              date  \n",
       "0  책 읽기 좋은 날 지금이 좋다 백설부  2019.10.30 09:50  \n",
       "1  책 읽기 좋은 날 지금이 좋다 백설부  2019.10.30 01:41  \n",
       "2  책 읽기 좋은 날 지금이 좋다 백설부  2019.10.30 00:02  \n",
       "3  책 읽기 좋은 날 지금이 좋다 백설부  2019.10.29 18:46  \n",
       "4  책 읽기 좋은 날 지금이 좋다 백설부  2019.10.29 10:26  "
      ]
     },
     "execution_count": 10,
     "metadata": {},
     "output_type": "execute_result"
    }
   ],
   "source": [
    "dataframe = ti.update_save_TB_DF(dataframe, all_content_info, blogger_id)\n",
    "print(dataframe.shape)\n",
    "dataframe.head()  # csv파일 확인"
   ]
  },
  {
   "cell_type": "code",
   "execution_count": null,
   "metadata": {},
   "outputs": [],
   "source": []
  },
  {
   "cell_type": "code",
   "execution_count": null,
   "metadata": {},
   "outputs": [],
   "source": []
  },
  {
   "cell_type": "code",
   "execution_count": null,
   "metadata": {},
   "outputs": [],
   "source": []
  },
  {
   "cell_type": "code",
   "execution_count": null,
   "metadata": {},
   "outputs": [],
   "source": []
  }
 ],
 "metadata": {
  "kernelspec": {
   "display_name": "Python 3",
   "language": "python",
   "name": "python3"
  },
  "language_info": {
   "codemirror_mode": {
    "name": "ipython",
    "version": 3
   },
   "file_extension": ".py",
   "mimetype": "text/x-python",
   "name": "python",
   "nbconvert_exporter": "python",
   "pygments_lexer": "ipython3",
   "version": "3.7.3"
  }
 },
 "nbformat": 4,
 "nbformat_minor": 2
}
