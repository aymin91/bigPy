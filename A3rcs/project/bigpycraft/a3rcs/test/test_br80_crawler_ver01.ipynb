{
 "cells": [
  {
   "cell_type": "code",
   "execution_count": 2,
   "metadata": {},
   "outputs": [],
   "source": [
    "import bpc.collect.crnv.br80_crawler_ver01 as crawler"
   ]
  },
  {
   "cell_type": "code",
   "execution_count": 3,
   "metadata": {},
   "outputs": [],
   "source": [
    "blogger_id = 'yookeunchang'"
   ]
  },
  {
   "cell_type": "code",
   "execution_count": 5,
   "metadata": {},
   "outputs": [
    {
     "data": {
      "text/plain": [
       "'https://brunch.co.kr/@yookeunchang#articles'"
      ]
     },
     "execution_count": 5,
     "metadata": {},
     "output_type": "execute_result"
    }
   ],
   "source": [
    "blog_url = crawler.get_blog_url(blogger_id)\n",
    "blog_url"
   ]
  },
  {
   "cell_type": "code",
   "execution_count": 6,
   "metadata": {},
   "outputs": [],
   "source": [
    "driver = crawler.blog_url_open(blog_url)"
   ]
  },
  {
   "cell_type": "code",
   "execution_count": 7,
   "metadata": {},
   "outputs": [
    {
     "name": "stdout",
     "output_type": "stream",
     "text": [
      "이 블로거의 게시글은 총  146 입니다.\n",
      "총  20 개의 url을 수집하였습니다.\n"
     ]
    }
   ],
   "source": [
    "board_url_list = crawler.get_all_board_url(driver) "
   ]
  },
  {
   "cell_type": "code",
   "execution_count": 8,
   "metadata": {},
   "outputs": [],
   "source": [
    "dataframe = crawler.make_basic_DF()"
   ]
  },
  {
   "cell_type": "code",
   "execution_count": 9,
   "metadata": {},
   "outputs": [
    {
     "name": "stdout",
     "output_type": "stream",
     "text": [
      "(20, 10)\n"
     ]
    },
    {
     "data": {
      "text/html": [
       "<div>\n",
       "<style scoped>\n",
       "    .dataframe tbody tr th:only-of-type {\n",
       "        vertical-align: middle;\n",
       "    }\n",
       "\n",
       "    .dataframe tbody tr th {\n",
       "        vertical-align: top;\n",
       "    }\n",
       "\n",
       "    .dataframe thead th {\n",
       "        text-align: right;\n",
       "    }\n",
       "</style>\n",
       "<table border=\"1\" class=\"dataframe\">\n",
       "  <thead>\n",
       "    <tr style=\"text-align: right;\">\n",
       "      <th></th>\n",
       "      <th>blog_type</th>\n",
       "      <th>blogger_id</th>\n",
       "      <th>post_num</th>\n",
       "      <th>key</th>\n",
       "      <th>board_url</th>\n",
       "      <th>title</th>\n",
       "      <th>content</th>\n",
       "      <th>board_category</th>\n",
       "      <th>blogger_nick</th>\n",
       "      <th>date</th>\n",
       "    </tr>\n",
       "  </thead>\n",
       "  <tbody>\n",
       "    <tr>\n",
       "      <th>0</th>\n",
       "      <td>BR</td>\n",
       "      <td>yookeunchang</td>\n",
       "      <td>214</td>\n",
       "      <td>BR_yookeunchang_214</td>\n",
       "      <td>https://brunch.co.kr/@yookeunchang/214</td>\n",
       "      <td>NaN</td>\n",
       "      <td>NaN</td>\n",
       "      <td>NaN</td>\n",
       "      <td>NaN</td>\n",
       "      <td>NaN</td>\n",
       "    </tr>\n",
       "    <tr>\n",
       "      <th>1</th>\n",
       "      <td>BR</td>\n",
       "      <td>yookeunchang</td>\n",
       "      <td>212</td>\n",
       "      <td>BR_yookeunchang_212</td>\n",
       "      <td>https://brunch.co.kr/@yookeunchang/212</td>\n",
       "      <td>NaN</td>\n",
       "      <td>NaN</td>\n",
       "      <td>NaN</td>\n",
       "      <td>NaN</td>\n",
       "      <td>NaN</td>\n",
       "    </tr>\n",
       "    <tr>\n",
       "      <th>2</th>\n",
       "      <td>BR</td>\n",
       "      <td>yookeunchang</td>\n",
       "      <td>211</td>\n",
       "      <td>BR_yookeunchang_211</td>\n",
       "      <td>https://brunch.co.kr/@yookeunchang/211</td>\n",
       "      <td>NaN</td>\n",
       "      <td>NaN</td>\n",
       "      <td>NaN</td>\n",
       "      <td>NaN</td>\n",
       "      <td>NaN</td>\n",
       "    </tr>\n",
       "    <tr>\n",
       "      <th>3</th>\n",
       "      <td>BR</td>\n",
       "      <td>yookeunchang</td>\n",
       "      <td>210</td>\n",
       "      <td>BR_yookeunchang_210</td>\n",
       "      <td>https://brunch.co.kr/@yookeunchang/210</td>\n",
       "      <td>NaN</td>\n",
       "      <td>NaN</td>\n",
       "      <td>NaN</td>\n",
       "      <td>NaN</td>\n",
       "      <td>NaN</td>\n",
       "    </tr>\n",
       "    <tr>\n",
       "      <th>4</th>\n",
       "      <td>BR</td>\n",
       "      <td>yookeunchang</td>\n",
       "      <td>208</td>\n",
       "      <td>BR_yookeunchang_208</td>\n",
       "      <td>https://brunch.co.kr/@yookeunchang/208</td>\n",
       "      <td>NaN</td>\n",
       "      <td>NaN</td>\n",
       "      <td>NaN</td>\n",
       "      <td>NaN</td>\n",
       "      <td>NaN</td>\n",
       "    </tr>\n",
       "  </tbody>\n",
       "</table>\n",
       "</div>"
      ],
      "text/plain": [
       "  blog_type    blogger_id post_num                  key  \\\n",
       "0        BR  yookeunchang      214  BR_yookeunchang_214   \n",
       "1        BR  yookeunchang      212  BR_yookeunchang_212   \n",
       "2        BR  yookeunchang      211  BR_yookeunchang_211   \n",
       "3        BR  yookeunchang      210  BR_yookeunchang_210   \n",
       "4        BR  yookeunchang      208  BR_yookeunchang_208   \n",
       "\n",
       "                                board_url title content board_category  \\\n",
       "0  https://brunch.co.kr/@yookeunchang/214   NaN     NaN            NaN   \n",
       "1  https://brunch.co.kr/@yookeunchang/212   NaN     NaN            NaN   \n",
       "2  https://brunch.co.kr/@yookeunchang/211   NaN     NaN            NaN   \n",
       "3  https://brunch.co.kr/@yookeunchang/210   NaN     NaN            NaN   \n",
       "4  https://brunch.co.kr/@yookeunchang/208   NaN     NaN            NaN   \n",
       "\n",
       "  blogger_nick date  \n",
       "0          NaN  NaN  \n",
       "1          NaN  NaN  \n",
       "2          NaN  NaN  \n",
       "3          NaN  NaN  \n",
       "4          NaN  NaN  "
      ]
     },
     "execution_count": 9,
     "metadata": {},
     "output_type": "execute_result"
    }
   ],
   "source": [
    "dataframe = crawler.insert_BR_DF(dataframe, blogger_id, board_url_list)\n",
    "print(dataframe.shape)\n",
    "dataframe.head()"
   ]
  },
  {
   "cell_type": "code",
   "execution_count": 10,
   "metadata": {},
   "outputs": [
    {
     "data": {
      "text/plain": [
       "20"
      ]
     },
     "execution_count": 10,
     "metadata": {},
     "output_type": "execute_result"
    }
   ],
   "source": [
    "all_content_info = crawler.gather_all_content(board_url_list)\n",
    "len(all_content_info)"
   ]
  },
  {
   "cell_type": "code",
   "execution_count": 11,
   "metadata": {
    "scrolled": true
   },
   "outputs": [
    {
     "name": "stdout",
     "output_type": "stream",
     "text": [
      "(20, 10)\n"
     ]
    },
    {
     "data": {
      "text/html": [
       "<div>\n",
       "<style scoped>\n",
       "    .dataframe tbody tr th:only-of-type {\n",
       "        vertical-align: middle;\n",
       "    }\n",
       "\n",
       "    .dataframe tbody tr th {\n",
       "        vertical-align: top;\n",
       "    }\n",
       "\n",
       "    .dataframe thead th {\n",
       "        text-align: right;\n",
       "    }\n",
       "</style>\n",
       "<table border=\"1\" class=\"dataframe\">\n",
       "  <thead>\n",
       "    <tr style=\"text-align: right;\">\n",
       "      <th></th>\n",
       "      <th>blog_type</th>\n",
       "      <th>blogger_id</th>\n",
       "      <th>post_num</th>\n",
       "      <th>key</th>\n",
       "      <th>board_url</th>\n",
       "      <th>title</th>\n",
       "      <th>content</th>\n",
       "      <th>board_category</th>\n",
       "      <th>blogger_nick</th>\n",
       "      <th>date</th>\n",
       "    </tr>\n",
       "  </thead>\n",
       "  <tbody>\n",
       "    <tr>\n",
       "      <th>0</th>\n",
       "      <td>BR</td>\n",
       "      <td>yookeunchang</td>\n",
       "      <td>214</td>\n",
       "      <td>BR_yookeunchang_214</td>\n",
       "      <td>https://brunch.co.kr/@yookeunchang/214</td>\n",
       "      <td>양파 곁들인 돼지 목삼겹살 구이</td>\n",
       "      <td>-풀꽃 하나 올렸을 뿐인데 확 달라진 집밥집밥을 리스또란떼처럼 우아하게 차릴 수 없...</td>\n",
       "      <td>분류없음</td>\n",
       "      <td>내가 꿈꾸는 그곳</td>\n",
       "      <td>6시간전</td>\n",
       "    </tr>\n",
       "    <tr>\n",
       "      <th>1</th>\n",
       "      <td>BR</td>\n",
       "      <td>yookeunchang</td>\n",
       "      <td>212</td>\n",
       "      <td>BR_yookeunchang_212</td>\n",
       "      <td>https://brunch.co.kr/@yookeunchang/212</td>\n",
       "      <td>설악산, 생애 최고의 단풍 속으로</td>\n",
       "      <td>#5 아내와 함께한 여행 사진첩인간은 참 알다가도 모를 망각의 동물인가 봐..!한밤...</td>\n",
       "      <td>분류없음</td>\n",
       "      <td>내가 꿈꾸는 그곳</td>\n",
       "      <td>Oct 28. 2019</td>\n",
       "    </tr>\n",
       "    <tr>\n",
       "      <th>2</th>\n",
       "      <td>BR</td>\n",
       "      <td>yookeunchang</td>\n",
       "      <td>211</td>\n",
       "      <td>BR_yookeunchang_211</td>\n",
       "      <td>https://brunch.co.kr/@yookeunchang/211</td>\n",
       "      <td>혼밥으로 만든 국물 없는 수제비</td>\n",
       "      <td>#31 이탈리아인들의 건강 장수 비결수제비에 국물이 없어도 될까..?!엄마가 만든 ...</td>\n",
       "      <td>분류없음</td>\n",
       "      <td>내가 꿈꾸는 그곳</td>\n",
       "      <td>Oct 26. 2019</td>\n",
       "    </tr>\n",
       "    <tr>\n",
       "      <th>3</th>\n",
       "      <td>BR</td>\n",
       "      <td>yookeunchang</td>\n",
       "      <td>210</td>\n",
       "      <td>BR_yookeunchang_210</td>\n",
       "      <td>https://brunch.co.kr/@yookeunchang/210</td>\n",
       "      <td>지난여름 네가 한 일을 기억해</td>\n",
       "      <td>-먼 나라에서 만난 어린 시절의 아스라한 풍경참 기분좋은 풍경 앞에서 멈추어섰다.2...</td>\n",
       "      <td>분류없음</td>\n",
       "      <td>내가 꿈꾸는 그곳</td>\n",
       "      <td>Oct 26. 2019</td>\n",
       "    </tr>\n",
       "    <tr>\n",
       "      <th>4</th>\n",
       "      <td>BR</td>\n",
       "      <td>yookeunchang</td>\n",
       "      <td>208</td>\n",
       "      <td>BR_yookeunchang_208</td>\n",
       "      <td>https://brunch.co.kr/@yookeunchang/208</td>\n",
       "      <td>마젤란펭귄의 절규와 나의 눈물</td>\n",
       "      <td>#4 아내와 함께한 여행 사진첩눈물이 메마르면 어떤 현상이 일어날까..?파타고니아에...</td>\n",
       "      <td>분류없음</td>\n",
       "      <td>내가 꿈꾸는 그곳</td>\n",
       "      <td>Oct 25. 2019</td>\n",
       "    </tr>\n",
       "  </tbody>\n",
       "</table>\n",
       "</div>"
      ],
      "text/plain": [
       "  blog_type    blogger_id post_num                  key  \\\n",
       "0        BR  yookeunchang      214  BR_yookeunchang_214   \n",
       "1        BR  yookeunchang      212  BR_yookeunchang_212   \n",
       "2        BR  yookeunchang      211  BR_yookeunchang_211   \n",
       "3        BR  yookeunchang      210  BR_yookeunchang_210   \n",
       "4        BR  yookeunchang      208  BR_yookeunchang_208   \n",
       "\n",
       "                                board_url                title  \\\n",
       "0  https://brunch.co.kr/@yookeunchang/214    양파 곁들인 돼지 목삼겹살 구이   \n",
       "1  https://brunch.co.kr/@yookeunchang/212  설악산, 생애 최고의 단풍 속으로    \n",
       "2  https://brunch.co.kr/@yookeunchang/211    혼밥으로 만든 국물 없는 수제비   \n",
       "3  https://brunch.co.kr/@yookeunchang/210     지난여름 네가 한 일을 기억해   \n",
       "4  https://brunch.co.kr/@yookeunchang/208    마젤란펭귄의 절규와 나의 눈물    \n",
       "\n",
       "                                             content board_category  \\\n",
       "0  -풀꽃 하나 올렸을 뿐인데 확 달라진 집밥집밥을 리스또란떼처럼 우아하게 차릴 수 없...           분류없음   \n",
       "1  #5 아내와 함께한 여행 사진첩인간은 참 알다가도 모를 망각의 동물인가 봐..!한밤...           분류없음   \n",
       "2  #31 이탈리아인들의 건강 장수 비결수제비에 국물이 없어도 될까..?!엄마가 만든 ...           분류없음   \n",
       "3  -먼 나라에서 만난 어린 시절의 아스라한 풍경참 기분좋은 풍경 앞에서 멈추어섰다.2...           분류없음   \n",
       "4  #4 아내와 함께한 여행 사진첩눈물이 메마르면 어떤 현상이 일어날까..?파타고니아에...           분류없음   \n",
       "\n",
       "  blogger_nick          date  \n",
       "0    내가 꿈꾸는 그곳          6시간전  \n",
       "1    내가 꿈꾸는 그곳  Oct 28. 2019  \n",
       "2    내가 꿈꾸는 그곳  Oct 26. 2019  \n",
       "3    내가 꿈꾸는 그곳  Oct 26. 2019  \n",
       "4    내가 꿈꾸는 그곳  Oct 25. 2019  "
      ]
     },
     "execution_count": 11,
     "metadata": {},
     "output_type": "execute_result"
    }
   ],
   "source": [
    "dataframe = crawler.update_save_BR_DF(dataframe, all_content_info, blogger_id) \n",
    "print(dataframe.shape)\n",
    "dataframe.head()"
   ]
  },
  {
   "cell_type": "code",
   "execution_count": null,
   "metadata": {},
   "outputs": [],
   "source": []
  },
  {
   "cell_type": "code",
   "execution_count": null,
   "metadata": {},
   "outputs": [],
   "source": []
  },
  {
   "cell_type": "code",
   "execution_count": null,
   "metadata": {},
   "outputs": [],
   "source": []
  },
  {
   "cell_type": "code",
   "execution_count": null,
   "metadata": {},
   "outputs": [],
   "source": []
  },
  {
   "cell_type": "code",
   "execution_count": null,
   "metadata": {},
   "outputs": [],
   "source": []
  }
 ],
 "metadata": {
  "kernelspec": {
   "display_name": "Python 3",
   "language": "python",
   "name": "python3"
  },
  "language_info": {
   "codemirror_mode": {
    "name": "ipython",
    "version": 3
   },
   "file_extension": ".py",
   "mimetype": "text/x-python",
   "name": "python",
   "nbconvert_exporter": "python",
   "pygments_lexer": "ipython3",
   "version": "3.7.3"
  }
 },
 "nbformat": 4,
 "nbformat_minor": 2
}
