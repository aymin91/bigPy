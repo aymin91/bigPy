{
 "cells": [
  {
   "cell_type": "code",
   "execution_count": 1,
   "metadata": {},
   "outputs": [],
   "source": [
    "import bpc.collect.crnv.test.nv41_blogger_id_crawler as nv_crawler\n",
    "import bpc.collect.crnv.test.dm51_blogger_id_crawler as dm_crawler\n",
    "import bpc.collect.crnv.test.br81_blogger_id_crawler as br_crawler\n",
    "import bpc.collect.crnv.test.eg71_blogger_id_crawler as eg_crawler"
   ]
  },
  {
   "cell_type": "code",
   "execution_count": 2,
   "metadata": {},
   "outputs": [],
   "source": [
    "def blogger_id_crawler_main(): \n",
    "    \n",
    "    # step 1\n",
    "    nv_driver = nv_crawler.go_blog_main()\n",
    "    dm_driver = dm_crawler.go_blog_main()\n",
    "    br_drver  = br_crawler.go_blog_main()\n",
    "    \n",
    "    # step 2\n",
    "    nv_blogger_info = nv_crawler.gather_blogger_info(nv_driver)\n",
    "    dm_blogger_info = dm_crawler.gather_blogger_info(dm_driver)\n",
    "    br_blogger_info = br_crawler.gather_blogger_info(br_drver)\n",
    "    eg_blogger_info = eg_crawler.gather_blogger_info()\n",
    "    \n",
    "    # step 3\n",
    "    nv_df = nv_crawler.make_save_df(nv_blogger_info)\n",
    "    dm_df = dm_crawler.make_save_df(dm_blogger_info)\n",
    "    br_df = br_crawler.make_save_df(br_blogger_info)\n",
    "    eg_df = eg_crawler.make_save_df(eg_blogger_info)\n",
    "    \n",
    "    success = print('Crawling is Success')\n",
    "    return success"
   ]
  },
  {
   "cell_type": "code",
   "execution_count": null,
   "metadata": {},
   "outputs": [],
   "source": [
    "def run_nv_id_crawler():\n",
    "    nv_driver = nv_crawler.go_blog_main()\n",
    "    nv_blogger_info = nv_crawler.gather_blogger_info(nv_driver)\n",
    "    nv_df = nv_crawler.make_save_df(nv_blogger_info)\n",
    "    \n",
    "    return nv_df"
   ]
  },
  {
   "cell_type": "code",
   "execution_count": null,
   "metadata": {},
   "outputs": [],
   "source": [
    "def run_nv_id_crawler():\n",
    "    nv_driver = nv_crawler.go_blog_main()\n",
    "    nv_blogger_info = nv_crawler.gather_blogger_info(nv_driver)\n",
    "    nv_df = nv_crawler.make_save_df(nv_blogger_info)\n",
    "    \n",
    "    return nv_df"
   ]
  },
  {
   "cell_type": "code",
   "execution_count": null,
   "metadata": {},
   "outputs": [],
   "source": []
  },
  {
   "cell_type": "code",
   "execution_count": null,
   "metadata": {},
   "outputs": [],
   "source": [
    "def run_all_id_crawler():\n",
    "    try:\n",
    "        run_nv_id_crawler()\n",
    "    except:\n",
    "        \n",
    "    nv_driver = nv_crawler.go_blog_main()\n",
    "    nv_blogger_info = nv_crawler.gather_blogger_info(nv_driver)\n",
    "    nv_df = nv_crawler.make_save_df(nv_blogger_info)\n",
    "    \n",
    "    return nv_df"
   ]
  },
  {
   "cell_type": "code",
   "execution_count": null,
   "metadata": {},
   "outputs": [],
   "source": []
  },
  {
   "cell_type": "code",
   "execution_count": null,
   "metadata": {},
   "outputs": [],
   "source": []
  },
  {
   "cell_type": "code",
   "execution_count": null,
   "metadata": {},
   "outputs": [],
   "source": []
  },
  {
   "cell_type": "code",
   "execution_count": null,
   "metadata": {},
   "outputs": [],
   "source": []
  },
  {
   "cell_type": "code",
   "execution_count": null,
   "metadata": {},
   "outputs": [],
   "source": []
  },
  {
   "cell_type": "code",
   "execution_count": null,
   "metadata": {},
   "outputs": [],
   "source": []
  },
  {
   "cell_type": "code",
   "execution_count": null,
   "metadata": {},
   "outputs": [],
   "source": []
  },
  {
   "cell_type": "markdown",
   "metadata": {},
   "source": [
    "1. 메인함수는 특수한 함수이다 >> 이름 수정 요망\n",
    "   __main__은 내장 메인 함수 모듈\n",
    "\n",
    "2. 메인 함수 안에서 모듈들이 다 돌아가는 형식임 \n",
    "   > 이렇게 돌아가면 문제점 : \n",
    "   >>1) 오류가 났을 때, 어떻게 처리할 것인가? - exception 처리가 필요 - 어떻게 exception 처리를 할 것인가에 대해서 생각해보자\n",
    "   >>\n",
    "   >>2) 블로그 크롤러 - 수집할 때, [블로그타입/블로그ID/시작일자/끝일자]로 수집하는 파라미터가 필요\n",
    "   >>\n",
    "   >>3) 블로그 크롤러 파라미터(default : all content must be collcted.)\n",
    "       = blog_tyep, blogger_id, start_date, end_date"
   ]
  },
  {
   "cell_type": "markdown",
   "metadata": {},
   "source": [
    "#### 문제점 개선방안\n",
    "1. id 크롤러 exception 처리\n",
    "> exception이 날 수 있는 부분\n",
    ">> selenium 조작 부분\n",
    ">>\n",
    ">> TimeoutException 부분\n",
    "\n",
    "2. 블로그 크롤러 exception 처리\n",
    "> exception이 날 수 있는 부분\n",
    ">> selenium 조작 부분\n",
    ">>\n",
    ">> TimeoutException 부분"
   ]
  },
  {
   "cell_type": "code",
   "execution_count": null,
   "metadata": {},
   "outputs": [],
   "source": []
  },
  {
   "cell_type": "code",
   "execution_count": null,
   "metadata": {},
   "outputs": [],
   "source": []
  },
  {
   "cell_type": "code",
   "execution_count": null,
   "metadata": {},
   "outputs": [],
   "source": []
  },
  {
   "cell_type": "code",
   "execution_count": null,
   "metadata": {},
   "outputs": [],
   "source": []
  },
  {
   "cell_type": "code",
   "execution_count": null,
   "metadata": {},
   "outputs": [],
   "source": []
  }
 ],
 "metadata": {
  "kernelspec": {
   "display_name": "Python 3",
   "language": "python",
   "name": "python3"
  },
  "language_info": {
   "codemirror_mode": {
    "name": "ipython",
    "version": 3
   },
   "file_extension": ".py",
   "mimetype": "text/x-python",
   "name": "python",
   "nbconvert_exporter": "python",
   "pygments_lexer": "ipython3",
   "version": "3.7.3"
  }
 },
 "nbformat": 4,
 "nbformat_minor": 2
}
