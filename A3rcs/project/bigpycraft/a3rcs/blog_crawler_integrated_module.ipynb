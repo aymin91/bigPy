{
 "cells": [
  {
   "cell_type": "code",
   "execution_count": null,
   "metadata": {},
   "outputs": [],
   "source": [
    "# 모듈 import"
   ]
  },
  {
   "cell_type": "code",
   "execution_count": null,
   "metadata": {},
   "outputs": [],
   "source": [
    "def run_blog_crawler():\n",
    "    nv_bl_crawler.get_blog_url()\n",
    "    dm_bl_crawler.get_blog_url()\n",
    "    eg_bl_crawler.get_blog_url()\n",
    "    ti_bl_crawler.get_blog_url()\n",
    "    br_bl_crawler.get_blog_url()\n",
    "    \n",
    "    \n",
    "    nv_bl_crawler.get_all_board_url()\n",
    "    dm_bl_crawler.get_all_board_url()\n",
    "    eg_bl_crawler.get_all_board_url()\n",
    "    ti_bl_crawler.get_all_board_url()\n",
    "    br_bl_crawler.get_all_board_url()\n",
    "    \n",
    "    nv_bl_crawler.gather_all_content()\n",
    "    dm_bl_crawler.gather_all_content()\n",
    "    eg_bl_crawler.gather_all_content()\n",
    "    ti_bl_crawler.gather_all_content()\n",
    "    br_bl_crawler.gather_all_content()\n",
    "    \n",
    "    nv_bl_crawler.make_NV_DF()\n",
    "    dm_bl_crawler.make_DM_DF()\n",
    "    eg_bl_crawler.make_EG_DF()\n",
    "    ti_bl_crawler.make_TI_DF()\n",
    "    br_bl_crawler.make_BR_DF()\n",
    "    \n",
    "    "
   ]
  },
  {
   "cell_type": "code",
   "execution_count": null,
   "metadata": {},
   "outputs": [],
   "source": []
  },
  {
   "cell_type": "code",
   "execution_count": null,
   "metadata": {},
   "outputs": [],
   "source": []
  },
  {
   "cell_type": "code",
   "execution_count": null,
   "metadata": {},
   "outputs": [],
   "source": []
  }
 ],
 "metadata": {
  "kernelspec": {
   "display_name": "Python 3",
   "language": "python",
   "name": "python3"
  },
  "language_info": {
   "codemirror_mode": {
    "name": "ipython",
    "version": 3
   },
   "file_extension": ".py",
   "mimetype": "text/x-python",
   "name": "python",
   "nbconvert_exporter": "python",
   "pygments_lexer": "ipython3",
   "version": "3.7.3"
  }
 },
 "nbformat": 4,
 "nbformat_minor": 2
}
