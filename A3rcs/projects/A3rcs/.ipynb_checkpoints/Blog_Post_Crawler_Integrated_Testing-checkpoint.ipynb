{
 "cells": [
  {
   "cell_type": "code",
   "execution_count": 1,
   "metadata": {},
   "outputs": [],
   "source": [
    "import module.s1_collect.blog.blog_post_crawler_integrated_module as bpc\n",
    "import pandas as pd"
   ]
  },
  {
   "cell_type": "markdown",
   "metadata": {},
   "source": [
    "### Naver"
   ]
  },
  {
   "cell_type": "code",
   "execution_count": 3,
   "metadata": {},
   "outputs": [
    {
     "ename": "TypeError",
     "evalue": "run_blog_post_crawler() missing 1 required keyword-only argument: 'blogger_id'",
     "output_type": "error",
     "traceback": [
      "\u001b[1;31m---------------------------------------------------------------------------\u001b[0m",
      "\u001b[1;31mTypeError\u001b[0m                                 Traceback (most recent call last)",
      "\u001b[1;32m<ipython-input-3-c138d597cbc5>\u001b[0m in \u001b[0;36m<module>\u001b[1;34m\u001b[0m\n\u001b[0;32m      1\u001b[0m \u001b[0mblogger_id\u001b[0m \u001b[1;33m=\u001b[0m \u001b[1;34m'worb1605'\u001b[0m \u001b[1;31m#  jean5315'\u001b[0m\u001b[1;33m\u001b[0m\u001b[1;33m\u001b[0m\u001b[0m\n\u001b[1;32m----> 2\u001b[1;33m \u001b[0mbpc\u001b[0m\u001b[1;33m.\u001b[0m\u001b[0mrun_blog_post_crawler\u001b[0m\u001b[1;33m(\u001b[0m\u001b[1;34m'nv'\u001b[0m\u001b[1;33m,\u001b[0m \u001b[0mblogger_id\u001b[0m\u001b[1;33m,\u001b[0m \u001b[0mstart_date\u001b[0m \u001b[1;33m=\u001b[0m \u001b[1;36m19001010\u001b[0m\u001b[1;33m,\u001b[0m \u001b[0mend_date\u001b[0m \u001b[1;33m=\u001b[0m \u001b[1;36m20221010\u001b[0m\u001b[1;33m)\u001b[0m\u001b[1;33m\u001b[0m\u001b[1;33m\u001b[0m\u001b[0m\n\u001b[0m",
      "\u001b[1;31mTypeError\u001b[0m: run_blog_post_crawler() missing 1 required keyword-only argument: 'blogger_id'"
     ]
    }
   ],
   "source": [
    "blogger_id = 'worb1605' #  jean5315'\n",
    "bpc.run_blog_post_crawler('nv', blogger_id, start_date = 19001010, end_date = 20221010)"
   ]
  },
  {
   "cell_type": "code",
   "execution_count": null,
   "metadata": {},
   "outputs": [],
   "source": [
    "NV_csv = pd.read_csv('NV_worb1605.csv', engine='python', encoding = 'utf-8')\n",
    "NV_csv.head() "
   ]
  },
  {
   "cell_type": "markdown",
   "metadata": {},
   "source": [
    "### Daum"
   ]
  },
  {
   "cell_type": "code",
   "execution_count": null,
   "metadata": {},
   "outputs": [],
   "source": [
    "blogger_id = 'k5311' \n",
    "bpc.run_blog_post_crawler('dm', blogger_id, start_date = 19001010, end_date = 20221010)"
   ]
  },
  {
   "cell_type": "code",
   "execution_count": null,
   "metadata": {},
   "outputs": [],
   "source": [
    "DM_csv = pd.read_csv('DM_k5311.csv', engine='python', encoding = 'utf-8')\n",
    "DM_csv.head() "
   ]
  },
  {
   "cell_type": "markdown",
   "metadata": {},
   "source": [
    "### Egloos"
   ]
  },
  {
   "cell_type": "code",
   "execution_count": null,
   "metadata": {},
   "outputs": [],
   "source": [
    "blogger_id = 'dabihian' \n",
    "bpc.run_blog_post_crawler('eg', blogger_id, start_date = 19001010, end_date = 20221010)"
   ]
  },
  {
   "cell_type": "code",
   "execution_count": null,
   "metadata": {},
   "outputs": [],
   "source": [
    "EG_csv = pd.read_csv('EG_dabihian.csv', engine='python', encoding = 'utf-8')\n",
    "EG_csv.head() "
   ]
  },
  {
   "cell_type": "markdown",
   "metadata": {},
   "source": [
    "### Tistory"
   ]
  },
  {
   "cell_type": "code",
   "execution_count": null,
   "metadata": {},
   "outputs": [],
   "source": [
    "blogger_id = 'sixsimi'\n",
    "bpc.run_blog_post_crawler('ti', blogger_id, start_date = 19001010, end_date = 20221010, latest_post_num = 30, last_post_num = 0)"
   ]
  },
  {
   "cell_type": "code",
   "execution_count": null,
   "metadata": {},
   "outputs": [],
   "source": [
    "TI_csv = pd.read_csv('TI_sixsimi.csv', engine='python', encoding = 'utf-8')\n",
    "TI_csv.head() "
   ]
  },
  {
   "cell_type": "markdown",
   "metadata": {},
   "source": [
    "### Brunch"
   ]
  },
  {
   "cell_type": "code",
   "execution_count": null,
   "metadata": {},
   "outputs": [],
   "source": [
    "blogger_id = 'formook'\n",
    "bpc.run_blog_post_crawler('br', blogger_id, start_date = 19001010, end_date = 20221010, latest_post_num = 50, last_post_num = 0)"
   ]
  },
  {
   "cell_type": "code",
   "execution_count": null,
   "metadata": {},
   "outputs": [],
   "source": [
    "BR_csv = pd.read_csv('BR_formook.csv', engine='python', encoding = 'utf-8')\n",
    "BR_csv.head() "
   ]
  }
 ],
 "metadata": {
  "kernelspec": {
   "display_name": "Python 3",
   "language": "python",
   "name": "python3"
  },
  "language_info": {
   "codemirror_mode": {
    "name": "ipython",
    "version": 3
   },
   "file_extension": ".py",
   "mimetype": "text/x-python",
   "name": "python",
   "nbconvert_exporter": "python",
   "pygments_lexer": "ipython3",
   "version": "3.7.3"
  }
 },
 "nbformat": 4,
 "nbformat_minor": 2
}
